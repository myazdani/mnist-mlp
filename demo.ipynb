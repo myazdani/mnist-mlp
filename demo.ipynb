{
 "cells": [
  {
   "cell_type": "markdown",
   "metadata": {},
   "source": [
    "# Overview\n",
    "\n",
    "`black_box_mlp.train_and_eval` is a function that takes a  set of parameters and returns the accuracy of the model. We would like to MAXIMIZE the value returned. The parameters that it takes are:\n",
    "\n",
    "    num_neurons: int\n",
    "        Number of hidden neurons to use. Defaults to 1000.\n",
    "\n",
    "    gain: float\n",
    "        Variance of the initialization weight for the hidden layer weights. Defaults to 0.01\n",
    "\n",
    "    np_random_seed: int\n",
    "        Seed for numpy random generator used for \n",
    "        \n",
    "    **kwargs:\n",
    "        Additional arguments to send to SGDClassifier\n",
    " \n",
    "For the additional SGDClassifier  parameters, see:  http://scikit-learn.org/stable/modules/generated/sklearn.linear_model.SGDClassifier.html#sklearn.linear_model.SGDClassifier"
   ]
  },
  {
   "cell_type": "markdown",
   "metadata": {},
   "source": [
    "## Basic example"
   ]
  },
  {
   "cell_type": "code",
   "execution_count": 1,
   "metadata": {
    "collapsed": true
   },
   "outputs": [],
   "source": [
    "import black_box_mlp"
   ]
  },
  {
   "cell_type": "code",
   "execution_count": 2,
   "metadata": {
    "collapsed": false
   },
   "outputs": [
    {
     "name": "stdout",
     "output_type": "stream",
     "text": [
      "CPU times: user 26.9 s, sys: 2min 1s, total: 2min 28s\n",
      "Wall time: 28.5 s\n"
     ]
    }
   ],
   "source": [
    "%%time\n",
    "accuracy = black_box_mlp.train_and_eval(np_random_seed=111, alpha = .1, random_state=2)"
   ]
  },
  {
   "cell_type": "code",
   "execution_count": 3,
   "metadata": {
    "collapsed": false
   },
   "outputs": [
    {
     "name": "stdout",
     "output_type": "stream",
     "text": [
      "The accuracy is:0.924458874459\n"
     ]
    }
   ],
   "source": [
    "print(\"The accuracy is:\" + str(accuracy))"
   ]
  },
  {
   "cell_type": "markdown",
   "metadata": {},
   "source": [
    "Note: you may also want to  take the time evaluated as an  additional value to minimize "
   ]
  },
  {
   "cell_type": "markdown",
   "metadata": {},
   "source": [
    "## Another example"
   ]
  },
  {
   "cell_type": "code",
   "execution_count": 4,
   "metadata": {
    "collapsed": false
   },
   "outputs": [
    {
     "name": "stdout",
     "output_type": "stream",
     "text": [
      "CPU times: user 1min 34s, sys: 1min 16s, total: 2min 51s\n",
      "Wall time: 1min 57s\n"
     ]
    }
   ],
   "source": [
    "%%time\n",
    "accuracy = black_box_mlp.train_and_eval(num_neurons = 5e3, gain = 1e-4, alpha = 1e-3, n_iter = 10, \n",
    "                                        random_state=2, np_random_seed=111)"
   ]
  },
  {
   "cell_type": "markdown",
   "metadata": {},
   "source": [
    "I think these 4 params should be  searched for:\n",
    "   \n",
    "   `num_neurons, gain, alpha, n_iter`\n",
    "   "
   ]
  },
  {
   "cell_type": "code",
   "execution_count": null,
   "metadata": {
    "collapsed": true
   },
   "outputs": [],
   "source": []
  }
 ],
 "metadata": {
  "kernelspec": {
   "display_name": "Python 3",
   "language": "python",
   "name": "python3"
  },
  "language_info": {
   "codemirror_mode": {
    "name": "ipython",
    "version": 3
   },
   "file_extension": ".py",
   "mimetype": "text/x-python",
   "name": "python",
   "nbconvert_exporter": "python",
   "pygments_lexer": "ipython3",
   "version": "3.5.2"
  }
 },
 "nbformat": 4,
 "nbformat_minor": 2
}
