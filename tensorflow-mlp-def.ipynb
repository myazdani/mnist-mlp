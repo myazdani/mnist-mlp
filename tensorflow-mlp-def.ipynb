{
 "cells": [
  {
   "cell_type": "code",
   "execution_count": 1,
   "metadata": {
    "collapsed": false
   },
   "outputs": [],
   "source": [
    "import tensorflow as tf\n",
    "import math\n",
    "from tensorflow.examples.tutorials.mnist import input_data as mnist_data\n",
    "#print(\"Tensorflow version \" + tf.__version__)\n",
    "#tf.set_random_seed(0)"
   ]
  },
  {
   "cell_type": "code",
   "execution_count": 2,
   "metadata": {
    "collapsed": true
   },
   "outputs": [],
   "source": [
    "config = tf.ConfigProto(\n",
    "        device_count = {'GPU': 0}\n",
    "    )\n",
    "sess = tf.Session(config=config)"
   ]
  },
  {
   "cell_type": "code",
   "execution_count": 3,
   "metadata": {
    "collapsed": false,
    "scrolled": false
   },
   "outputs": [],
   "source": [
    "def get_score(n_iter = 10, layer_L = 200, layer_M = 100, layer_N = 60, layer_O = 30, max_learning_rate = 0.003, \n",
    "              min_learning_rate = 0.0001 ,decay_speed = 2000.0, train_batch_size = 100, drop_out_rate = 0.75):\n",
    "    \n",
    "    # layer_L > 1K (10x-100x)\n",
    "    # layer_M > 500\n",
    "    # layer_N > 100\n",
    "    # layer_0 > 50\n",
    "\n",
    "    ##\n",
    "    ## data prep\n",
    "    ##\n",
    "    mnist = mnist_data.read_data_sets(\"data\", one_hot=True, reshape=False, validation_size=0)\n",
    "\n",
    "    # input X: 28x28 grayscale images, the first dimension (None) will index the images in the mini-batch\n",
    "    X = tf.placeholder(tf.float32, [None, 28, 28, 1])\n",
    "    # correct answers will go here\n",
    "    Y_ = tf.placeholder(tf.float32, [None, 10])\n",
    "    # variable learning rate\n",
    "    lr = tf.placeholder(tf.float32)\n",
    "    # Probability of keeping a node during dropout = 1.0 at test time (no dropout) and 0.75 at training time\n",
    "    pkeep = tf.placeholder(tf.float32)\n",
    "    \n",
    "    ##\n",
    "    ## architecture setup\n",
    "    ##\n",
    "    L = layer_L\n",
    "    M = layer_M\n",
    "    N = layer_N\n",
    "    O = layer_O\n",
    "    # Weights initialised with small random values between -0.2 and +0.2\n",
    "    # When using RELUs, make sure biases are initialised with small *positive* values for example 0.1 = tf.ones([K])/10\n",
    "    W1 = tf.Variable(tf.truncated_normal([784, L], stddev=0.1))  # 784 = 28 * 28\n",
    "    B1 = tf.Variable(tf.ones([L])/10)\n",
    "    W2 = tf.Variable(tf.truncated_normal([L, M], stddev=0.1))\n",
    "    B2 = tf.Variable(tf.ones([M])/10)\n",
    "    W3 = tf.Variable(tf.truncated_normal([M, N], stddev=0.1))\n",
    "    B3 = tf.Variable(tf.ones([N])/10)\n",
    "    W4 = tf.Variable(tf.truncated_normal([N, O], stddev=0.1))\n",
    "    B4 = tf.Variable(tf.ones([O])/10)\n",
    "    W5 = tf.Variable(tf.truncated_normal([O, 10], stddev=0.1))\n",
    "    B5 = tf.Variable(tf.zeros([10]))\n",
    "\n",
    "\n",
    "    # The model, with dropout at each layer\n",
    "    XX = tf.reshape(X, [-1, 28*28])\n",
    "\n",
    "    Y1 = tf.nn.relu(tf.matmul(XX, W1) + B1)\n",
    "    Y1d = tf.nn.dropout(Y1, pkeep)\n",
    "\n",
    "    Y2 = tf.nn.relu(tf.matmul(Y1d, W2) + B2)\n",
    "    Y2d = tf.nn.dropout(Y2, pkeep)\n",
    "\n",
    "    Y3 = tf.nn.relu(tf.matmul(Y2d, W3) + B3)\n",
    "    Y3d = tf.nn.dropout(Y3, pkeep)\n",
    "\n",
    "    Y4 = tf.nn.relu(tf.matmul(Y3d, W4) + B4)\n",
    "    Y4d = tf.nn.dropout(Y4, pkeep)\n",
    "\n",
    "    Ylogits = tf.matmul(Y4d, W5) + B5\n",
    "    Y = tf.nn.softmax(Ylogits)\n",
    "\n",
    "\n",
    "    # cross-entropy loss function (= -sum(Y_i * log(Yi)) ), normalised for batches of 100  images\n",
    "    # TensorFlow provides the softmax_cross_entropy_with_logits function to avoid numerical stability\n",
    "    # problems with log(0) which is NaN\n",
    "    cross_entropy = tf.nn.softmax_cross_entropy_with_logits(logits=Ylogits, labels=Y_)\n",
    "    cross_entropy = tf.reduce_mean(cross_entropy)*100\n",
    "\n",
    "    # accuracy of the trained model, between 0 (worst) and 1 (best)\n",
    "    correct_prediction = tf.equal(tf.argmax(Y, 1), tf.argmax(Y_, 1))\n",
    "    accuracy = tf.reduce_mean(tf.cast(correct_prediction, tf.float32))\n",
    "\n",
    "    # training step, the learning rate is a placeholder\n",
    "    train_step = tf.train.AdamOptimizer(lr).minimize(cross_entropy)\n",
    "\n",
    "    # init\n",
    "    init = tf.global_variables_initializer()\n",
    "    sess = tf.Session()\n",
    "    sess.run(init)\n",
    "\n",
    "    def training_step(i):\n",
    "\n",
    "        # training on batches of 100 images with 100 labels\n",
    "        batch_X, batch_Y = mnist.train.next_batch(train_batch_size)\n",
    "\n",
    "        # learning rate decay\n",
    "        #max_learning_rate = 0.003\n",
    "        #min_learning_rate = 0.0001\n",
    "        #decay_speed = 2000.0 # 0.003-0.0001-2000=>0.9826 done in 5000 iterations\n",
    "        learning_rate = min_learning_rate + (max_learning_rate - min_learning_rate) * math.exp(-i/decay_speed)\n",
    "\n",
    "        # the backpropagation training step\n",
    "        sess.run(train_step, {X: batch_X, Y_: batch_Y, pkeep: drop_out_rate, lr: learning_rate})\n",
    "\n",
    "    for i in range(n_iter):\n",
    "        training_step(i)\n",
    "    a, c= sess.run([accuracy, cross_entropy], {X: mnist.test.images, Y_: mnist.test.labels, pkeep: 1.0})\n",
    "    \n",
    "    return a"
   ]
  },
  {
   "cell_type": "code",
   "execution_count": 7,
   "metadata": {
    "collapsed": false
   },
   "outputs": [
    {
     "name": "stdout",
     "output_type": "stream",
     "text": [
      "Extracting data/train-images-idx3-ubyte.gz\n",
      "Extracting data/train-labels-idx1-ubyte.gz\n",
      "Extracting data/t10k-images-idx3-ubyte.gz\n",
      "Extracting data/t10k-labels-idx1-ubyte.gz\n",
      "CPU times: user 5.64 s, sys: 2.37 s, total: 8.01 s\n",
      "Wall time: 6.32 s\n"
     ]
    },
    {
     "data": {
      "text/plain": [
       "0.96220011"
      ]
     },
     "execution_count": 7,
     "metadata": {},
     "output_type": "execute_result"
    }
   ],
   "source": [
    "%%time\n",
    "get_score(n_iter=1000)"
   ]
  },
  {
   "cell_type": "code",
   "execution_count": null,
   "metadata": {
    "collapsed": true
   },
   "outputs": [],
   "source": []
  }
 ],
 "metadata": {
  "kernelspec": {
   "display_name": "Python 3",
   "language": "python",
   "name": "python3"
  },
  "language_info": {
   "codemirror_mode": {
    "name": "ipython",
    "version": 3
   },
   "file_extension": ".py",
   "mimetype": "text/x-python",
   "name": "python",
   "nbconvert_exporter": "python",
   "pygments_lexer": "ipython3",
   "version": "3.5.2"
  }
 },
 "nbformat": 4,
 "nbformat_minor": 2
}
